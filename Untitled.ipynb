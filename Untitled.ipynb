{
 "cells": [
  {
   "cell_type": "code",
   "execution_count": 1,
   "metadata": {},
   "outputs": [],
   "source": [
    "import pandas as pd\n",
    "\n",
    "import sqlite3"
   ]
  },
  {
   "cell_type": "code",
   "execution_count": 4,
   "metadata": {},
   "outputs": [],
   "source": [
    "connection = sqlite3.connect('data/FPA_FOD_20170508.sqlite')"
   ]
  },
  {
   "cell_type": "code",
   "execution_count": 34,
   "metadata": {},
   "outputs": [
    {
     "name": "stdout",
     "output_type": "stream",
     "text": [
      "[('spatial_ref_sys',), ('spatialite_history',), ('sqlite_sequence',), ('geometry_columns',), ('spatial_ref_sys_aux',), ('views_geometry_columns',), ('virts_geometry_columns',), ('geometry_columns_statistics',), ('views_geometry_columns_statistics',), ('virts_geometry_columns_statistics',), ('geometry_columns_field_infos',), ('views_geometry_columns_field_infos',), ('virts_geometry_columns_field_infos',), ('geometry_columns_time',), ('geometry_columns_auth',), ('views_geometry_columns_auth',), ('virts_geometry_columns_auth',), ('sql_statements_log',), ('SpatialIndex',), ('ElementaryGeometries',), ('KNN',), ('Fires',), ('idx_Fires_Shape',), ('idx_Fires_Shape_node',), ('idx_Fires_Shape_rowid',), ('idx_Fires_Shape_parent',), ('NWCG_UnitIDActive_20170109',)]\n"
     ]
    }
   ],
   "source": [
    "cursor = connection.cursor()\n",
    "cursor.execute(\"SELECT name FROM sqlite_master WHERE type='table';\")\n",
    "print(cursor.fetchall())\n",
    "cursor.close()"
   ]
  },
  {
   "cell_type": "code",
   "execution_count": 28,
   "metadata": {},
   "outputs": [],
   "source": [
    "fires_df = pd.read_sql('SELECT * FROM fires;', connection)"
   ]
  },
  {
   "cell_type": "code",
   "execution_count": 36,
   "metadata": {},
   "outputs": [],
   "source": [
    "agency_df = pd.read_sql('SELECT * FROM NWCG_UnitIDActive_20170109;', connection)"
   ]
  },
  {
   "cell_type": "code",
   "execution_count": 29,
   "metadata": {},
   "outputs": [
    {
     "data": {
      "text/html": [
       "<div>\n",
       "<style scoped>\n",
       "    .dataframe tbody tr th:only-of-type {\n",
       "        vertical-align: middle;\n",
       "    }\n",
       "\n",
       "    .dataframe tbody tr th {\n",
       "        vertical-align: top;\n",
       "    }\n",
       "\n",
       "    .dataframe thead th {\n",
       "        text-align: right;\n",
       "    }\n",
       "</style>\n",
       "<table border=\"1\" class=\"dataframe\">\n",
       "  <thead>\n",
       "    <tr style=\"text-align: right;\">\n",
       "      <th></th>\n",
       "      <th>OBJECTID</th>\n",
       "      <th>FOD_ID</th>\n",
       "      <th>FPA_ID</th>\n",
       "      <th>SOURCE_SYSTEM_TYPE</th>\n",
       "      <th>SOURCE_SYSTEM</th>\n",
       "      <th>NWCG_REPORTING_AGENCY</th>\n",
       "      <th>NWCG_REPORTING_UNIT_ID</th>\n",
       "      <th>NWCG_REPORTING_UNIT_NAME</th>\n",
       "      <th>SOURCE_REPORTING_UNIT</th>\n",
       "      <th>SOURCE_REPORTING_UNIT_NAME</th>\n",
       "      <th>...</th>\n",
       "      <th>FIRE_SIZE_CLASS</th>\n",
       "      <th>LATITUDE</th>\n",
       "      <th>LONGITUDE</th>\n",
       "      <th>OWNER_CODE</th>\n",
       "      <th>OWNER_DESCR</th>\n",
       "      <th>STATE</th>\n",
       "      <th>COUNTY</th>\n",
       "      <th>FIPS_CODE</th>\n",
       "      <th>FIPS_NAME</th>\n",
       "      <th>Shape</th>\n",
       "    </tr>\n",
       "  </thead>\n",
       "  <tbody>\n",
       "    <tr>\n",
       "      <th>0</th>\n",
       "      <td>1</td>\n",
       "      <td>1</td>\n",
       "      <td>FS-1418826</td>\n",
       "      <td>FED</td>\n",
       "      <td>FS-FIRESTAT</td>\n",
       "      <td>FS</td>\n",
       "      <td>USCAPNF</td>\n",
       "      <td>Plumas National Forest</td>\n",
       "      <td>0511</td>\n",
       "      <td>Plumas National Forest</td>\n",
       "      <td>...</td>\n",
       "      <td>A</td>\n",
       "      <td>40.036944</td>\n",
       "      <td>-121.005833</td>\n",
       "      <td>5.0</td>\n",
       "      <td>USFS</td>\n",
       "      <td>CA</td>\n",
       "      <td>63</td>\n",
       "      <td>063</td>\n",
       "      <td>Plumas</td>\n",
       "      <td>b'\\x00\\x01\\xad\\x10\\x00\\x00\\xe8d\\xc2\\x92_@^\\xc0...</td>\n",
       "    </tr>\n",
       "    <tr>\n",
       "      <th>1</th>\n",
       "      <td>2</td>\n",
       "      <td>2</td>\n",
       "      <td>FS-1418827</td>\n",
       "      <td>FED</td>\n",
       "      <td>FS-FIRESTAT</td>\n",
       "      <td>FS</td>\n",
       "      <td>USCAENF</td>\n",
       "      <td>Eldorado National Forest</td>\n",
       "      <td>0503</td>\n",
       "      <td>Eldorado National Forest</td>\n",
       "      <td>...</td>\n",
       "      <td>A</td>\n",
       "      <td>38.933056</td>\n",
       "      <td>-120.404444</td>\n",
       "      <td>5.0</td>\n",
       "      <td>USFS</td>\n",
       "      <td>CA</td>\n",
       "      <td>61</td>\n",
       "      <td>061</td>\n",
       "      <td>Placer</td>\n",
       "      <td>b'\\x00\\x01\\xad\\x10\\x00\\x00T\\xb6\\xeej\\xe2\\x19^\\...</td>\n",
       "    </tr>\n",
       "    <tr>\n",
       "      <th>2</th>\n",
       "      <td>3</td>\n",
       "      <td>3</td>\n",
       "      <td>FS-1418835</td>\n",
       "      <td>FED</td>\n",
       "      <td>FS-FIRESTAT</td>\n",
       "      <td>FS</td>\n",
       "      <td>USCAENF</td>\n",
       "      <td>Eldorado National Forest</td>\n",
       "      <td>0503</td>\n",
       "      <td>Eldorado National Forest</td>\n",
       "      <td>...</td>\n",
       "      <td>A</td>\n",
       "      <td>38.984167</td>\n",
       "      <td>-120.735556</td>\n",
       "      <td>13.0</td>\n",
       "      <td>STATE OR PRIVATE</td>\n",
       "      <td>CA</td>\n",
       "      <td>17</td>\n",
       "      <td>017</td>\n",
       "      <td>El Dorado</td>\n",
       "      <td>b'\\x00\\x01\\xad\\x10\\x00\\x00\\xd0\\xa5\\xa0W\\x13/^\\...</td>\n",
       "    </tr>\n",
       "    <tr>\n",
       "      <th>3</th>\n",
       "      <td>4</td>\n",
       "      <td>4</td>\n",
       "      <td>FS-1418845</td>\n",
       "      <td>FED</td>\n",
       "      <td>FS-FIRESTAT</td>\n",
       "      <td>FS</td>\n",
       "      <td>USCAENF</td>\n",
       "      <td>Eldorado National Forest</td>\n",
       "      <td>0503</td>\n",
       "      <td>Eldorado National Forest</td>\n",
       "      <td>...</td>\n",
       "      <td>A</td>\n",
       "      <td>38.559167</td>\n",
       "      <td>-119.913333</td>\n",
       "      <td>5.0</td>\n",
       "      <td>USFS</td>\n",
       "      <td>CA</td>\n",
       "      <td>3</td>\n",
       "      <td>003</td>\n",
       "      <td>Alpine</td>\n",
       "      <td>b'\\x00\\x01\\xad\\x10\\x00\\x00\\x94\\xac\\xa3\\rt\\xfa]...</td>\n",
       "    </tr>\n",
       "    <tr>\n",
       "      <th>4</th>\n",
       "      <td>5</td>\n",
       "      <td>5</td>\n",
       "      <td>FS-1418847</td>\n",
       "      <td>FED</td>\n",
       "      <td>FS-FIRESTAT</td>\n",
       "      <td>FS</td>\n",
       "      <td>USCAENF</td>\n",
       "      <td>Eldorado National Forest</td>\n",
       "      <td>0503</td>\n",
       "      <td>Eldorado National Forest</td>\n",
       "      <td>...</td>\n",
       "      <td>A</td>\n",
       "      <td>38.559167</td>\n",
       "      <td>-119.933056</td>\n",
       "      <td>5.0</td>\n",
       "      <td>USFS</td>\n",
       "      <td>CA</td>\n",
       "      <td>3</td>\n",
       "      <td>003</td>\n",
       "      <td>Alpine</td>\n",
       "      <td>b'\\x00\\x01\\xad\\x10\\x00\\x00@\\xe3\\xaa.\\xb7\\xfb]\\...</td>\n",
       "    </tr>\n",
       "  </tbody>\n",
       "</table>\n",
       "<p>5 rows × 39 columns</p>\n",
       "</div>"
      ],
      "text/plain": [
       "   OBJECTID  FOD_ID      FPA_ID SOURCE_SYSTEM_TYPE SOURCE_SYSTEM  \\\n",
       "0         1       1  FS-1418826                FED   FS-FIRESTAT   \n",
       "1         2       2  FS-1418827                FED   FS-FIRESTAT   \n",
       "2         3       3  FS-1418835                FED   FS-FIRESTAT   \n",
       "3         4       4  FS-1418845                FED   FS-FIRESTAT   \n",
       "4         5       5  FS-1418847                FED   FS-FIRESTAT   \n",
       "\n",
       "  NWCG_REPORTING_AGENCY NWCG_REPORTING_UNIT_ID  NWCG_REPORTING_UNIT_NAME  \\\n",
       "0                    FS                USCAPNF    Plumas National Forest   \n",
       "1                    FS                USCAENF  Eldorado National Forest   \n",
       "2                    FS                USCAENF  Eldorado National Forest   \n",
       "3                    FS                USCAENF  Eldorado National Forest   \n",
       "4                    FS                USCAENF  Eldorado National Forest   \n",
       "\n",
       "  SOURCE_REPORTING_UNIT SOURCE_REPORTING_UNIT_NAME  ... FIRE_SIZE_CLASS  \\\n",
       "0                  0511     Plumas National Forest  ...               A   \n",
       "1                  0503   Eldorado National Forest  ...               A   \n",
       "2                  0503   Eldorado National Forest  ...               A   \n",
       "3                  0503   Eldorado National Forest  ...               A   \n",
       "4                  0503   Eldorado National Forest  ...               A   \n",
       "\n",
       "    LATITUDE   LONGITUDE OWNER_CODE       OWNER_DESCR STATE COUNTY FIPS_CODE  \\\n",
       "0  40.036944 -121.005833        5.0              USFS    CA     63       063   \n",
       "1  38.933056 -120.404444        5.0              USFS    CA     61       061   \n",
       "2  38.984167 -120.735556       13.0  STATE OR PRIVATE    CA     17       017   \n",
       "3  38.559167 -119.913333        5.0              USFS    CA      3       003   \n",
       "4  38.559167 -119.933056        5.0              USFS    CA      3       003   \n",
       "\n",
       "   FIPS_NAME                                              Shape  \n",
       "0     Plumas  b'\\x00\\x01\\xad\\x10\\x00\\x00\\xe8d\\xc2\\x92_@^\\xc0...  \n",
       "1     Placer  b'\\x00\\x01\\xad\\x10\\x00\\x00T\\xb6\\xeej\\xe2\\x19^\\...  \n",
       "2  El Dorado  b'\\x00\\x01\\xad\\x10\\x00\\x00\\xd0\\xa5\\xa0W\\x13/^\\...  \n",
       "3     Alpine  b'\\x00\\x01\\xad\\x10\\x00\\x00\\x94\\xac\\xa3\\rt\\xfa]...  \n",
       "4     Alpine  b'\\x00\\x01\\xad\\x10\\x00\\x00@\\xe3\\xaa.\\xb7\\xfb]\\...  \n",
       "\n",
       "[5 rows x 39 columns]"
      ]
     },
     "execution_count": 29,
     "metadata": {},
     "output_type": "execute_result"
    }
   ],
   "source": [
    "fires_df.head()"
   ]
  },
  {
   "cell_type": "code",
   "execution_count": 30,
   "metadata": {},
   "outputs": [
    {
     "name": "stdout",
     "output_type": "stream",
     "text": [
      "<class 'pandas.core.frame.DataFrame'>\n",
      "RangeIndex: 1880465 entries, 0 to 1880464\n",
      "Data columns (total 39 columns):\n",
      " #   Column                      Dtype  \n",
      "---  ------                      -----  \n",
      " 0   OBJECTID                    int64  \n",
      " 1   FOD_ID                      int64  \n",
      " 2   FPA_ID                      object \n",
      " 3   SOURCE_SYSTEM_TYPE          object \n",
      " 4   SOURCE_SYSTEM               object \n",
      " 5   NWCG_REPORTING_AGENCY       object \n",
      " 6   NWCG_REPORTING_UNIT_ID      object \n",
      " 7   NWCG_REPORTING_UNIT_NAME    object \n",
      " 8   SOURCE_REPORTING_UNIT       object \n",
      " 9   SOURCE_REPORTING_UNIT_NAME  object \n",
      " 10  LOCAL_FIRE_REPORT_ID        object \n",
      " 11  LOCAL_INCIDENT_ID           object \n",
      " 12  FIRE_CODE                   object \n",
      " 13  FIRE_NAME                   object \n",
      " 14  ICS_209_INCIDENT_NUMBER     object \n",
      " 15  ICS_209_NAME                object \n",
      " 16  MTBS_ID                     object \n",
      " 17  MTBS_FIRE_NAME              object \n",
      " 18  COMPLEX_NAME                object \n",
      " 19  FIRE_YEAR                   int64  \n",
      " 20  DISCOVERY_DATE              float64\n",
      " 21  DISCOVERY_DOY               int64  \n",
      " 22  DISCOVERY_TIME              object \n",
      " 23  STAT_CAUSE_CODE             float64\n",
      " 24  STAT_CAUSE_DESCR            object \n",
      " 25  CONT_DATE                   float64\n",
      " 26  CONT_DOY                    float64\n",
      " 27  CONT_TIME                   object \n",
      " 28  FIRE_SIZE                   float64\n",
      " 29  FIRE_SIZE_CLASS             object \n",
      " 30  LATITUDE                    float64\n",
      " 31  LONGITUDE                   float64\n",
      " 32  OWNER_CODE                  float64\n",
      " 33  OWNER_DESCR                 object \n",
      " 34  STATE                       object \n",
      " 35  COUNTY                      object \n",
      " 36  FIPS_CODE                   object \n",
      " 37  FIPS_NAME                   object \n",
      " 38  Shape                       object \n",
      "dtypes: float64(8), int64(4), object(27)\n",
      "memory usage: 559.5+ MB\n"
     ]
    }
   ],
   "source": [
    "fires_df.info()"
   ]
  },
  {
   "cell_type": "code",
   "execution_count": 31,
   "metadata": {},
   "outputs": [
    {
     "data": {
      "text/plain": [
       "(1880465, 39)"
      ]
     },
     "execution_count": 31,
     "metadata": {},
     "output_type": "execute_result"
    }
   ],
   "source": [
    "fires_df.shape"
   ]
  },
  {
   "cell_type": "code",
   "execution_count": 32,
   "metadata": {
    "scrolled": false
   },
   "outputs": [
    {
     "data": {
      "text/plain": [
       "OBJECTID                      0.000000\n",
       "FOD_ID                        0.000000\n",
       "FPA_ID                        0.000000\n",
       "SOURCE_SYSTEM_TYPE            0.000000\n",
       "SOURCE_SYSTEM                 0.000000\n",
       "NWCG_REPORTING_AGENCY         0.000000\n",
       "NWCG_REPORTING_UNIT_ID        0.000000\n",
       "NWCG_REPORTING_UNIT_NAME      0.000000\n",
       "SOURCE_REPORTING_UNIT         0.000000\n",
       "SOURCE_REPORTING_UNIT_NAME    0.000000\n",
       "LOCAL_FIRE_REPORT_ID          0.776024\n",
       "LOCAL_INCIDENT_ID             0.436499\n",
       "FIRE_CODE                     0.827261\n",
       "FIRE_NAME                     0.509017\n",
       "ICS_209_INCIDENT_NUMBER       0.986324\n",
       "ICS_209_NAME                  0.986324\n",
       "MTBS_ID                       0.994149\n",
       "MTBS_FIRE_NAME                0.994149\n",
       "COMPLEX_NAME                  0.997244\n",
       "FIRE_YEAR                     0.000000\n",
       "DISCOVERY_DATE                0.000000\n",
       "DISCOVERY_DOY                 0.000000\n",
       "DISCOVERY_TIME                0.469372\n",
       "STAT_CAUSE_CODE               0.000000\n",
       "STAT_CAUSE_DESCR              0.000000\n",
       "CONT_DATE                     0.474101\n",
       "CONT_DOY                      0.474101\n",
       "CONT_TIME                     0.516985\n",
       "FIRE_SIZE                     0.000000\n",
       "FIRE_SIZE_CLASS               0.000000\n",
       "LATITUDE                      0.000000\n",
       "LONGITUDE                     0.000000\n",
       "OWNER_CODE                    0.000000\n",
       "OWNER_DESCR                   0.000000\n",
       "STATE                         0.000000\n",
       "COUNTY                        0.360628\n",
       "FIPS_CODE                     0.360628\n",
       "FIPS_NAME                     0.360628\n",
       "Shape                         0.000000\n",
       "dtype: float64"
      ]
     },
     "execution_count": 32,
     "metadata": {},
     "output_type": "execute_result"
    }
   ],
   "source": [
    "fires_df.isna().sum()/df.shape[0]"
   ]
  },
  {
   "cell_type": "code",
   "execution_count": 38,
   "metadata": {},
   "outputs": [
    {
     "data": {
      "text/plain": [
       "Debris Burning       429028\n",
       "Miscellaneous        323805\n",
       "Arson                281455\n",
       "Lightning            278468\n",
       "Missing/Undefined    166723\n",
       "Equipment Use        147612\n",
       "Campfire              76139\n",
       "Children              61167\n",
       "Smoking               52869\n",
       "Railroad              33455\n",
       "Powerline             14448\n",
       "Fireworks             11500\n",
       "Structure              3796\n",
       "Name: STAT_CAUSE_DESCR, dtype: int64"
      ]
     },
     "execution_count": 38,
     "metadata": {},
     "output_type": "execute_result"
    }
   ],
   "source": [
    "df['STAT_CAUSE_DESCR'].value_counts()"
   ]
  },
  {
   "cell_type": "code",
   "execution_count": null,
   "metadata": {},
   "outputs": [],
   "source": [
    "fires_df.duplicated()"
   ]
  }
 ],
 "metadata": {
  "kernelspec": {
   "display_name": "Python 3",
   "language": "python",
   "name": "python3"
  },
  "language_info": {
   "codemirror_mode": {
    "name": "ipython",
    "version": 3
   },
   "file_extension": ".py",
   "mimetype": "text/x-python",
   "name": "python",
   "nbconvert_exporter": "python",
   "pygments_lexer": "ipython3",
   "version": "3.8.5"
  }
 },
 "nbformat": 4,
 "nbformat_minor": 4
}
